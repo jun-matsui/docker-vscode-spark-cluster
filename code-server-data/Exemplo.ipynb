{
 "cells": [
  {
   "cell_type": "code",
   "execution_count": 1,
   "metadata": {},
   "outputs": [
    {
     "name": "stdout",
     "output_type": "stream",
     "text": [
      "Soma: 3\n"
     ]
    }
   ],
   "source": [
    "a =1\n",
    "b = 2\n",
    "print(\"Soma:\", a + b)"
   ]
  },
  {
   "cell_type": "code",
   "execution_count": 4,
   "metadata": {},
   "outputs": [
    {
     "name": "stdout",
     "output_type": "stream",
     "text": [
      "Olá\n"
     ]
    }
   ],
   "source": [
    "print(\"Olá\")"
   ]
  },
  {
   "cell_type": "code",
   "execution_count": 1,
   "metadata": {},
   "outputs": [
    {
     "name": "stderr",
     "output_type": "stream",
     "text": [
      "Setting default log level to \"WARN\".\n",
      "To adjust logging level use sc.setLogLevel(newLevel). For SparkR, use setLogLevel(newLevel).\n"
     ]
    },
    {
     "name": "stdout",
     "output_type": "stream",
     "text": [
      "25/03/20 21:34:30 WARN NativeCodeLoader: Unable to load native-hadoop library for your platform... using builtin-java classes where applicable\n"
     ]
    }
   ],
   "source": [
    "import findspark\n",
    "\n",
    "from pyspark.sql import SparkSession\n",
    "from pyspark.sql.functions import col, avg\n",
    "from pyspark.sql.types import *\n",
    "\n",
    "# Inicializando a SparkSession\n",
    "spark = SparkSession.builder \\\n",
    "    .appName(\"Exemplo PySpark\") \\\n",
    "    .master(\"spark://vscode-master:7077\") \\\n",
    "    .config(\"spark.sql.catalogImplementation\", \"hive\") \\\n",
    "    .enableHiveSupport() \\\n",
    "    .getOrCreate()\n",
    "\n",
    "spark.sparkContext.setLogLevel(\"ERROR\")\n"
   ]
  },
  {
   "cell_type": "code",
   "execution_count": 3,
   "metadata": {},
   "outputs": [
    {
     "name": "stdout",
     "output_type": "stream",
     "text": [
      "Schema do DataFrame:\n",
      "root\n",
      " |-- id: integer (nullable = false)\n",
      " |-- nome: string (nullable = false)\n",
      " |-- idade: integer (nullable = false)\n",
      " |-- cidade: string (nullable = false)\n",
      "\n",
      "Dados do DataFrame:\n"
     ]
    },
    {
     "name": "stderr",
     "output_type": "stream",
     "text": [
      "                                                                                \r"
     ]
    },
    {
     "name": "stdout",
     "output_type": "stream",
     "text": [
      "+---+-------+-----+--------------+\n",
      "| id|   nome|idade|        cidade|\n",
      "+---+-------+-----+--------------+\n",
      "|  1|  Alice|   25|     São Paulo|\n",
      "|  2|    Bob|   30|Rio de Janeiro|\n",
      "|  3| Carlos|   35|     São Paulo|\n",
      "|  4|Daniela|   28|Belo Horizonte|\n",
      "|  5|Eduardo|   40|Rio de Janeiro|\n",
      "+---+-------+-----+--------------+\n",
      "\n",
      "Dados filtrados (idade > 30):\n",
      "+---+-------+-----+--------------+\n",
      "| id|   nome|idade|        cidade|\n",
      "+---+-------+-----+--------------+\n",
      "|  3| Carlos|   35|     São Paulo|\n",
      "|  5|Eduardo|   40|Rio de Janeiro|\n",
      "+---+-------+-----+--------------+\n",
      "\n",
      "Média de idade por cidade:\n"
     ]
    },
    {
     "name": "stderr",
     "output_type": "stream",
     "text": [
      "                                                                                \r"
     ]
    },
    {
     "name": "stdout",
     "output_type": "stream",
     "text": [
      "+--------------+-----------+\n",
      "|        cidade|media_idade|\n",
      "+--------------+-----------+\n",
      "|     São Paulo|       30.0|\n",
      "|Rio de Janeiro|       35.0|\n",
      "|Belo Horizonte|       28.0|\n",
      "+--------------+-----------+\n",
      "\n"
     ]
    },
    {
     "name": "stderr",
     "output_type": "stream",
     "text": [
      "[Stage 11:>                                                         (0 + 1) / 1]\r"
     ]
    },
    {
     "name": "stdout",
     "output_type": "stream",
     "text": [
      "Resultado salvo em 'resultado_agregado.parquet'\n"
     ]
    },
    {
     "name": "stderr",
     "output_type": "stream",
     "text": [
      "                                                                                \r"
     ]
    }
   ],
   "source": [
    "\n",
    "# Criando um DataFrame a partir de uma lista de dados\n",
    "dados = [\n",
    "    (1, \"Alice\", 25, \"São Paulo\"),\n",
    "    (2, \"Bob\", 30, \"Rio de Janeiro\"),\n",
    "    (3, \"Carlos\", 35, \"São Paulo\"),\n",
    "    (4, \"Daniela\", 28, \"Belo Horizonte\"),\n",
    "    (5, \"Eduardo\", 40, \"Rio de Janeiro\")\n",
    "]\n",
    "\n",
    "# Definindo o schema do DataFrame\n",
    "schema = StructType([\n",
    "    StructField(\"id\", IntegerType(), False),\n",
    "    StructField(\"nome\", StringType(), False),\n",
    "    StructField(\"idade\", IntegerType(), False),\n",
    "    StructField(\"cidade\", StringType(), False)\n",
    "])\n",
    "\n",
    "# Criando o DataFrame\n",
    "df = spark.createDataFrame(dados, schema)\n",
    "\n",
    "# Exibindo o schema e os dados\n",
    "print(\"Schema do DataFrame:\")\n",
    "df.printSchema()\n",
    "\n",
    "print(\"Dados do DataFrame:\")\n",
    "df.show()\n",
    "\n",
    "# Realizando transformações\n",
    "# Filtro: Pessoas com mais de 30 anos\n",
    "df_filtrado = df.filter(col(\"idade\") > 30)\n",
    "\n",
    "# Agregação: Média de idade por cidade\n",
    "df_agregado = df.groupBy(\"cidade\").agg(avg(\"idade\").alias(\"media_idade\"))\n",
    "\n",
    "# Exibindo os resultados\n",
    "print(\"Dados filtrados (idade > 30):\")\n",
    "df_filtrado.show()\n",
    "\n",
    "print(\"Média de idade por cidade:\")\n",
    "df_agregado.show()\n",
    "\n",
    "# Salvando o resultado em um arquivo Parquet\n",
    "df_agregado.write.parquet(\"resultado_agregado.parquet\")\n",
    "print(\"Resultado salvo em 'resultado_agregado.parquet'\")\n"
   ]
  },
  {
   "cell_type": "code",
   "execution_count": null,
   "metadata": {},
   "outputs": [],
   "source": [
    "\n",
    "# Encerrando a SparkSession\n",
    "spark.stop()"
   ]
  }
 ],
 "metadata": {
  "kernelspec": {
   "display_name": "Python 3",
   "language": "python",
   "name": "python3"
  },
  "language_info": {
   "codemirror_mode": {
    "name": "ipython",
    "version": 3
   },
   "file_extension": ".py",
   "mimetype": "text/x-python",
   "name": "python",
   "nbconvert_exporter": "python",
   "pygments_lexer": "ipython3",
   "version": "3.10.12"
  }
 },
 "nbformat": 4,
 "nbformat_minor": 2
}
